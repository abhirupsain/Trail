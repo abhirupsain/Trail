{
 "cells": [
  {
   "cell_type": "markdown",
   "metadata": {
    "id": "GFPQtXRbh3du"
   },
   "source": [
    "This notebook was created using <https://colab.research.google.com/> (just do demonstrate that it exists and how it is working).\n",
    "\n",
    "See the video of course05 (at timestamp 00:14:50h) for background on this.\n",
    "\n",
    "\n",
    "\n",
    "If you want to use it, you need (to create) a google account.\n",
    "Be sure to understand the privacy implications of this platform.\n"
   ]
  },
  {
   "cell_type": "code",
   "execution_count": 5,
   "metadata": {
    "id": "7uKTvHcJioa0"
   },
   "outputs": [],
   "source": [
    "class Sphere():\n",
    "    \"\"\"A class modeling a spherical objects\"\"\"\n",
    "\n",
    "    def __init__(self, radius, midpoint=(0, 0, 0)):\n",
    "        \"\"\"\n",
    "        Initialization method. Automatically executed when an object is created.\n",
    "        Corresponds (approximately) to the 'constructor' in other programming\n",
    "        languages.\n",
    "        \"\"\"\n",
    "\n",
    "        # set attributes:\n",
    "        self.radius = radius\n",
    "        self.midpoint = midpoint\n",
    "\n",
    "    def calc_volume(self):\n",
    "        r = self.radius\n",
    "        return (4/3)*np.pi*(r**3)"
   ]
  },
  {
   "cell_type": "code",
   "execution_count": 9,
   "metadata": {
    "id": "EAbYsiR8qO4m"
   },
   "outputs": [],
   "source": [
    "x = soccer_ball = Sphere(radius=21)\n",
    "tennis_ball = Sphere(3)\n",
    "rubber_ball = Sphere(1)\n"
   ]
  },
  {
   "cell_type": "code",
   "execution_count": 11,
   "metadata": {
    "colab": {
     "base_uri": "https://localhost:8080/"
    },
    "id": "wkq9T9rdqR9-",
    "outputId": "34aeff22-9b58-416c-93b3-04198b54bde5"
   },
   "outputs": [
    {
     "data": {
      "text/plain": [
       "140637609780304"
      ]
     },
     "execution_count": 11,
     "metadata": {},
     "output_type": "execute_result"
    }
   ],
   "source": [
    "id(soccer_ball)"
   ]
  },
  {
   "cell_type": "code",
   "execution_count": 10,
   "metadata": {
    "colab": {
     "base_uri": "https://localhost:8080/"
    },
    "id": "yCROFZRuqWrA",
    "outputId": "c5621e7b-d452-48ff-c476-4bffc8573a6e"
   },
   "outputs": [
    {
     "data": {
      "text/plain": [
       "140637609780304"
      ]
     },
     "execution_count": 10,
     "metadata": {},
     "output_type": "execute_result"
    }
   ],
   "source": [
    "id(x)"
   ]
  },
  {
   "cell_type": "code",
   "execution_count": 18,
   "metadata": {
    "id": "NvrvpUuksy70"
   },
   "outputs": [],
   "source": [
    "class GeometricObject:\n",
    "    pass\n",
    "\n",
    "class Ellipsoid(GeometricObject):\n",
    "    pass\n",
    "\n",
    "\n",
    "class Cuboid(GeometricObject):\n",
    "    pass\n",
    "\n",
    "class Sphere(Ellipsoid):\n",
    "    \"\"\"A class modeling a spherical objects\"\"\"\n",
    "\n",
    "    def __init__(self, radius, midpoint=(0, 0, 0)):\n",
    "        \"\"\"\n",
    "        Initialization method. Automatically executed when an object is created.\n",
    "        Corresponds (approximately) to the 'constructor' in other programming\n",
    "        languages.\n",
    "        \"\"\"\n",
    "\n",
    "        # set attributes:\n",
    "        self.radius = radius\n",
    "        self.midpoint = midpoint\n",
    "\n",
    "    def calc_volume(self):\n",
    "        r = self.radius\n",
    "        return (4/3)*np.pi*(r**3)"
   ]
  },
  {
   "cell_type": "code",
   "execution_count": 13,
   "metadata": {
    "id": "yUoss5Cyqc1f"
   },
   "outputs": [],
   "source": [
    "soccer_ball = Sphere(radius=21)"
   ]
  },
  {
   "cell_type": "code",
   "execution_count": 14,
   "metadata": {
    "colab": {
     "base_uri": "https://localhost:8080/"
    },
    "id": "s5n3SOkPtLEH",
    "outputId": "14c7eb70-0e37-4ce0-a0c7-ed53ef9540f1"
   },
   "outputs": [
    {
     "data": {
      "text/plain": [
       "True"
      ]
     },
     "execution_count": 14,
     "metadata": {},
     "output_type": "execute_result"
    }
   ],
   "source": [
    "isinstance(soccer_ball, Sphere)"
   ]
  },
  {
   "cell_type": "code",
   "execution_count": 16,
   "metadata": {
    "colab": {
     "base_uri": "https://localhost:8080/"
    },
    "id": "mYDfClpCtP3p",
    "outputId": "b7cae0b6-9237-4d13-ace4-10ec2f17b574"
   },
   "outputs": [
    {
     "data": {
      "text/plain": [
       "True"
      ]
     },
     "execution_count": 16,
     "metadata": {},
     "output_type": "execute_result"
    }
   ],
   "source": [
    "isinstance(soccer_ball, GeometricObject)"
   ]
  },
  {
   "cell_type": "code",
   "execution_count": 17,
   "metadata": {
    "colab": {
     "base_uri": "https://localhost:8080/"
    },
    "id": "aEATDxlXtXTw",
    "outputId": "c464c8da-bbd0-42b8-a1d8-370c73389f66"
   },
   "outputs": [
    {
     "data": {
      "text/plain": [
       "True"
      ]
     },
     "execution_count": 17,
     "metadata": {},
     "output_type": "execute_result"
    }
   ],
   "source": [
    "isinstance(soccer_ball, Ellipsoid)"
   ]
  },
  {
   "cell_type": "code",
   "execution_count": 19,
   "metadata": {
    "colab": {
     "base_uri": "https://localhost:8080/"
    },
    "id": "8vp0Xl2ytaDg",
    "outputId": "ff92070a-1a97-45b4-b012-d4319b78044b"
   },
   "outputs": [
    {
     "data": {
      "text/plain": [
       "False"
      ]
     },
     "execution_count": 19,
     "metadata": {},
     "output_type": "execute_result"
    }
   ],
   "source": [
    "isinstance(soccer_ball, Cuboid)"
   ]
  },
  {
   "cell_type": "code",
   "execution_count": 21,
   "metadata": {
    "colab": {
     "base_uri": "https://localhost:8080/"
    },
    "id": "mViYR8lLtgjr",
    "outputId": "25b0b9d0-bfba-4a93-9d41-6d32e5eadfa4"
   },
   "outputs": [
    {
     "data": {
      "text/plain": [
       "False"
      ]
     },
     "execution_count": 21,
     "metadata": {},
     "output_type": "execute_result"
    }
   ],
   "source": [
    "issubclass(Ellipsoid, Sphere)"
   ]
  },
  {
   "cell_type": "code",
   "execution_count": 45,
   "metadata": {
    "colab": {
     "base_uri": "https://localhost:8080/"
    },
    "id": "Fpp0d7PNwMir",
    "outputId": "ea6192d1-d90a-4868-975e-9f765f197281"
   },
   "outputs": [
    {
     "data": {
      "text/plain": [
       "__main__.Sphere"
      ]
     },
     "execution_count": 45,
     "metadata": {},
     "output_type": "execute_result"
    }
   ],
   "source": [
    "type(soccer_ball)"
   ]
  },
  {
   "cell_type": "code",
   "execution_count": 37,
   "metadata": {
    "id": "nmYgwFHttod7"
   },
   "outputs": [],
   "source": [
    "class ClassA():\n",
    "  def m1(self):\n",
    "      print(id(self))\n",
    "\n",
    "  def m2(self, x):  # !! self argument missing\n",
    "      print(x)\n",
    "\n"
   ]
  },
  {
   "cell_type": "code",
   "execution_count": 38,
   "metadata": {
    "colab": {
     "base_uri": "https://localhost:8080/"
    },
    "id": "gZxVfgZ1uRUf",
    "outputId": "738b0abc-3888-414e-f11d-56ce782b6866"
   },
   "outputs": [
    {
     "name": "stdout",
     "output_type": "stream",
     "text": [
      "140637609923280\n"
     ]
    }
   ],
   "source": [
    "a = ClassA()  # create an instance\n",
    "\n",
    "a.m1()  # no explicit argument (but implicitly a is passed)\n"
   ]
  },
  {
   "cell_type": "code",
   "execution_count": 28,
   "metadata": {
    "colab": {
     "base_uri": "https://localhost:8080/"
    },
    "id": "KzPXLei3uVl8",
    "outputId": "baa14a8e-5b15-435d-f6b5-47ed707b83bd"
   },
   "outputs": [
    {
     "name": "stdout",
     "output_type": "stream",
     "text": [
      "140637609515280\n"
     ]
    }
   ],
   "source": [
    "print(id(a))  # this gives the same number\n"
   ]
  },
  {
   "cell_type": "code",
   "execution_count": 35,
   "metadata": {
    "colab": {
     "base_uri": "https://localhost:8080/"
    },
    "id": "Y_8hL7LSuZil",
    "outputId": "80be9c87-e932-41b5-be8b-62d91a892e75"
   },
   "outputs": [
    {
     "name": "stdout",
     "output_type": "stream",
     "text": [
      "<__main__.ClassA object at 0x7fe8beba58d0>\n"
     ]
    }
   ],
   "source": [
    "a.m2()"
   ]
  },
  {
   "cell_type": "code",
   "execution_count": 39,
   "metadata": {
    "colab": {
     "base_uri": "https://localhost:8080/"
    },
    "id": "KUSmTP1-ugt-",
    "outputId": "667e4a55-2c51-4c10-aead-4b38de49b0cc"
   },
   "outputs": [
    {
     "name": "stdout",
     "output_type": "stream",
     "text": [
      "8\n"
     ]
    }
   ],
   "source": [
    "a.m2(8)"
   ]
  },
  {
   "cell_type": "code",
   "execution_count": 40,
   "metadata": {
    "id": "KZMqGAqku-a8"
   },
   "outputs": [],
   "source": [
    "\n",
    "class ClassA():\n",
    "    pass\n",
    "\n",
    "def funktion1():\n",
    "    pass\n"
   ]
  },
  {
   "cell_type": "code",
   "execution_count": 41,
   "metadata": {
    "colab": {
     "base_uri": "https://localhost:8080/"
    },
    "id": "8EjhrAOavnXY",
    "outputId": "83a7d1f3-bfdd-4235-aef2-00e330620866"
   },
   "outputs": [
    {
     "data": {
      "text/plain": [
       "type"
      ]
     },
     "execution_count": 41,
     "metadata": {},
     "output_type": "execute_result"
    }
   ],
   "source": [
    "type(ClassA)"
   ]
  },
  {
   "cell_type": "code",
   "execution_count": 42,
   "metadata": {
    "colab": {
     "base_uri": "https://localhost:8080/"
    },
    "id": "B1uYTreFvpAH",
    "outputId": "7570f433-317b-4e0b-baf6-2b713e846b41"
   },
   "outputs": [
    {
     "data": {
      "text/plain": [
       "function"
      ]
     },
     "execution_count": 42,
     "metadata": {},
     "output_type": "execute_result"
    }
   ],
   "source": [
    "type(funktion1)"
   ]
  },
  {
   "cell_type": "code",
   "execution_count": 43,
   "metadata": {
    "id": "-66HAK2lv3ut"
   },
   "outputs": [],
   "source": [
    "a1 = ClassA()"
   ]
  },
  {
   "cell_type": "code",
   "execution_count": 44,
   "metadata": {
    "colab": {
     "base_uri": "https://localhost:8080/"
    },
    "id": "gDUMNPrhv_z3",
    "outputId": "a80d9051-ce3e-4aa5-9fe3-daff19952d3f"
   },
   "outputs": [
    {
     "data": {
      "text/plain": [
       "__main__.ClassA"
      ]
     },
     "execution_count": 44,
     "metadata": {},
     "output_type": "execute_result"
    }
   ],
   "source": [
    "type(a1)"
   ]
  },
  {
   "cell_type": "code",
   "execution_count": 46,
   "metadata": {
    "id": "e1jPNbkxwAwL"
   },
   "outputs": [],
   "source": [
    "q = [funktion1, ClassA, Sphere]"
   ]
  },
  {
   "cell_type": "code",
   "execution_count": 47,
   "metadata": {
    "colab": {
     "base_uri": "https://localhost:8080/"
    },
    "id": "HqnDTv7zwkwp",
    "outputId": "dbc59182-66fb-4657-b442-3a816c166b0b"
   },
   "outputs": [
    {
     "data": {
      "text/plain": [
       "[<function __main__.funktion1()>, __main__.ClassA, __main__.Sphere]"
      ]
     },
     "execution_count": 47,
     "metadata": {},
     "output_type": "execute_result"
    }
   ],
   "source": [
    "q"
   ]
  },
  {
   "cell_type": "code",
   "execution_count": 48,
   "metadata": {
    "id": "EnIO64mNwlX7"
   },
   "outputs": [],
   "source": [
    "B = Sphere"
   ]
  },
  {
   "cell_type": "code",
   "execution_count": 50,
   "metadata": {
    "id": "JZH9mzn5wrH7"
   },
   "outputs": [],
   "source": [
    "b = B(4)"
   ]
  },
  {
   "cell_type": "code",
   "execution_count": 51,
   "metadata": {
    "colab": {
     "base_uri": "https://localhost:8080/"
    },
    "id": "BhswUQ-owu_B",
    "outputId": "f45cac0f-dbdd-421b-9bda-814aa6c328c0"
   },
   "outputs": [
    {
     "data": {
      "text/plain": [
       "__main__.Sphere"
      ]
     },
     "execution_count": 51,
     "metadata": {},
     "output_type": "execute_result"
    }
   ],
   "source": [
    "type(b)"
   ]
  },
  {
   "cell_type": "code",
   "execution_count": null,
   "metadata": {
    "id": "q8ncwdk4wzab"
   },
   "outputs": [],
   "source": []
  }
 ],
 "metadata": {
  "colab": {
   "collapsed_sections": [],
   "provenance": []
  },
  "kernelspec": {
   "display_name": "Python 3",
   "language": "python",
   "name": "python3"
  },
  "language_info": {
   "codemirror_mode": {
    "name": "ipython",
    "version": 3
   },
   "file_extension": ".py",
   "mimetype": "text/x-python",
   "name": "python",
   "nbconvert_exporter": "python",
   "pygments_lexer": "ipython3",
   "version": "3.8.6"
  }
 },
 "nbformat": 4,
 "nbformat_minor": 1
}
